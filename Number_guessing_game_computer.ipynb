{
  "nbformat": 4,
  "nbformat_minor": 0,
  "metadata": {
    "colab": {
      "provenance": [],
      "authorship_tag": "ABX9TyPaBhvC9sy8vb0fM6beUPdH",
      "include_colab_link": true
    },
    "kernelspec": {
      "name": "python3",
      "display_name": "Python 3"
    },
    "language_info": {
      "name": "python"
    }
  },
  "cells": [
    {
      "cell_type": "markdown",
      "metadata": {
        "id": "view-in-github",
        "colab_type": "text"
      },
      "source": [
        "<a href=\"https://colab.research.google.com/github/aamnaashraf/number-guessing-game-computer/blob/main/Number_guessing_game_computer.ipynb\" target=\"_parent\"><img src=\"https://colab.research.google.com/assets/colab-badge.svg\" alt=\"Open In Colab\"/></a>"
      ]
    },
    {
      "cell_type": "code",
      "execution_count": 1,
      "metadata": {
        "colab": {
          "base_uri": "https://localhost:8080/"
        },
        "id": "a5YrB6Vt6-xf",
        "outputId": "2ebab3db-00c5-4d81-a123-a6bf9fb4c16e"
      },
      "outputs": [
        {
          "output_type": "stream",
          "name": "stdout",
          "text": [
            "Welcome to the Number Guessing Game!\n",
            "I'm thinking of a number between 1 and 100. You have 7 attempts to guess it.\n",
            "Enter your guess: 50\n",
            "Too high! You have 6 guesses left.\n",
            "Enter your guess: 40\n",
            "Too high! You have 5 guesses left.\n",
            "Enter your guess: 30\n",
            "Too high! You have 4 guesses left.\n",
            "Enter your guess: 20\n",
            "Too high! You have 3 guesses left.\n",
            "Enter your guess: 10\n",
            "Too low! You have 2 guesses left.\n",
            "Enter your guess: 15\n",
            "Too high! You have 1 guesses left.\n",
            "Enter your guess: 13\n",
            "Congratulations! You guessed the number in 7 attempts!\n"
          ]
        }
      ],
      "source": [
        "import random\n",
        "\n",
        "def computer_guessing_game():\n",
        "    # Computer thinks of a number between 1 and 100\n",
        "    number_to_guess = random.randint(1, 100)\n",
        "    max_attempts = 7\n",
        "    attempts = 0\n",
        "\n",
        "    print(\"Welcome to the Number Guessing Game!\")\n",
        "    print(f\"I'm thinking of a number between 1 and 100. You have {max_attempts} attempts to guess it.\")\n",
        "\n",
        "    while attempts < max_attempts:\n",
        "        try:\n",
        "            # Get the user's guess\n",
        "            user_guess = int(input(\"Enter your guess: \"))\n",
        "            attempts += 1\n",
        "\n",
        "            # Check if the guess is correct\n",
        "            if user_guess < number_to_guess:\n",
        "                print(f\"Too low! You have {max_attempts - attempts} guesses left.\")\n",
        "            elif user_guess > number_to_guess:\n",
        "                print(f\"Too high! You have {max_attempts - attempts} guesses left.\")\n",
        "            else:\n",
        "                print(f\"Congratulations! You guessed the number in {attempts} attempts!\")\n",
        "                return\n",
        "\n",
        "        except ValueError:\n",
        "            print(\"Invalid input! Please enter a valid number.\")\n",
        "\n",
        "    # If the user runs out of guesses\n",
        "    print(f\"Sorry, you've run out of guesses. The number was {number_to_guess}.\")\n",
        "\n",
        "# Run the game\n",
        "computer_guessing_game()"
      ]
    }
  ]
}